{
 "cells": [
  {
   "cell_type": "code",
   "execution_count": 1,
   "metadata": {},
   "outputs": [],
   "source": [
    "from IPython.core.interactiveshell import InteractiveShell\n",
    "InteractiveShell.ast_node_interactivity = \"all\"\n"
   ]
  },
  {
   "cell_type": "markdown",
   "metadata": {},
   "source": [
    "# Python 3\n",
    "## Классы - продолжение. Контекстные менеджеры\n",
    "\n",
    "MIPT 2020"
   ]
  },
  {
   "cell_type": "markdown",
   "metadata": {},
   "source": [
    "### Методы `__str__` и `__repr__`"
   ]
  },
  {
   "cell_type": "code",
   "execution_count": 2,
   "metadata": {},
   "outputs": [],
   "source": [
    "class Error:\n",
    "    def __init__(self, err_string: str) -> None:\n",
    "        self.err_string = err_string\n",
    "    \n",
    "    def __repr__(self) -> str:\n",
    "        return f\"Error(err_string='{self.err_string}')\"\n",
    "    \n",
    "    def __eq__(self, other: 'Error') -> bool:\n",
    "        return self.err_string == other.err_string\n",
    "    \n",
    "    def __str__(self) -> str:\n",
    "        return self.err_string\n"
   ]
  },
  {
   "cell_type": "code",
   "execution_count": 3,
   "metadata": {},
   "outputs": [
    {
     "data": {
      "text/plain": [
       "\"Error(err_string='help me')\""
      ]
     },
     "execution_count": 3,
     "metadata": {},
     "output_type": "execute_result"
    },
    {
     "data": {
      "text/plain": [
       "'help me'"
      ]
     },
     "execution_count": 3,
     "metadata": {},
     "output_type": "execute_result"
    },
    {
     "data": {
      "text/plain": [
       "Error(err_string='help me')"
      ]
     },
     "execution_count": 3,
     "metadata": {},
     "output_type": "execute_result"
    },
    {
     "data": {
      "text/plain": [
       "True"
      ]
     },
     "execution_count": 3,
     "metadata": {},
     "output_type": "execute_result"
    }
   ],
   "source": [
    "repr(Error(err_string='help me'))\n",
    "str(Error(err_string='help me'))\n",
    "Error(err_string='help me')\n",
    "Error(err_string='help me') == Error(err_string='help me')\n"
   ]
  },
  {
   "cell_type": "markdown",
   "metadata": {},
   "source": [
    "По дефолту равенство работает как равенство ссылок на объекты, `__str__` вызывает `__repr__`"
   ]
  },
  {
   "cell_type": "markdown",
   "metadata": {},
   "source": [
    "`__repr__` обычно отвечает за то, какие поля в данный момент лежат в классе\n",
    "\n",
    "`__str__` дает представление класса как строки\n",
    "\n",
    "Часто бывает так, что эти методы совпадают, если необычного `__str__` не предполагается"
   ]
  },
  {
   "cell_type": "markdown",
   "metadata": {},
   "source": [
    "### Dataclass (python3.7)"
   ]
  },
  {
   "cell_type": "code",
   "execution_count": 4,
   "metadata": {},
   "outputs": [],
   "source": [
    "import dataclasses\n",
    "\n",
    "@dataclasses.dataclass\n",
    "class ErrorData:\n",
    "    err_string: str\n"
   ]
  },
  {
   "cell_type": "markdown",
   "metadata": {},
   "source": [
    "Аннотация типа обязательна!"
   ]
  },
  {
   "cell_type": "code",
   "execution_count": 5,
   "metadata": {},
   "outputs": [
    {
     "data": {
      "text/plain": [
       "\"ErrorData(err_string='help me')\""
      ]
     },
     "execution_count": 5,
     "metadata": {},
     "output_type": "execute_result"
    },
    {
     "data": {
      "text/plain": [
       "\"ErrorData(err_string='help me')\""
      ]
     },
     "execution_count": 5,
     "metadata": {},
     "output_type": "execute_result"
    },
    {
     "data": {
      "text/plain": [
       "ErrorData(err_string='help me')"
      ]
     },
     "execution_count": 5,
     "metadata": {},
     "output_type": "execute_result"
    },
    {
     "data": {
      "text/plain": [
       "True"
      ]
     },
     "execution_count": 5,
     "metadata": {},
     "output_type": "execute_result"
    }
   ],
   "source": [
    "repr(ErrorData(err_string='help me'))\n",
    "str(ErrorData(err_string='help me'))\n",
    "ErrorData(err_string='help me')\n",
    "ErrorData(err_string='help me') == ErrorData(err_string='help me')\n"
   ]
  },
  {
   "cell_type": "markdown",
   "metadata": {},
   "source": [
    "По дефолту декоратор `dataclass` сам создает функции `__init__`, `__repr__`, `__eq__` как в примере выше.\n",
    "\n",
    "Можно передать в него аргументы и отключить функциональность"
   ]
  },
  {
   "cell_type": "markdown",
   "metadata": {},
   "source": [
    "### Арифметика"
   ]
  },
  {
   "cell_type": "code",
   "execution_count": 6,
   "metadata": {},
   "outputs": [],
   "source": [
    "import functools\n",
    "from typing import Any\n",
    "\n",
    "\n",
    "@dataclasses.dataclass\n",
    "class Point:\n",
    "    x: float\n",
    "    y: float\n",
    "    \n",
    "    @functools.singledispatchmethod\n",
    "    def __add__(self, other: 'Point') -> 'Point':\n",
    "        return Point(x=self.x + other.x, y=self.y + other.y)\n",
    "    \n",
    "    @__add__.register\n",
    "    def _(self, other: int) -> Any:\n",
    "        return Point(x=self.x + other, y=self.y + other)\n",
    "    \n",
    "    def __radd__(self, other: int) -> 'Point':\n",
    "        return Point(x=self.x + other, y=self.y + other)\n",
    "    \n",
    "    def __iadd__(self, other: 'Point') -> 'Point':\n",
    "        self.x += other.x\n",
    "        self.y += other.y\n",
    "        return self\n",
    "    \n",
    "    def __mul__(self, other: 'Point') -> 'Point':\n",
    "        return Point(x=self.x * other.x, y=self.y * other.y)\n",
    "    \n",
    "    def __imul__(self, other: 'Point') -> 'Point':\n",
    "        self.x *= other.x\n",
    "        self.y *= other.y\n",
    "        return self\n"
   ]
  },
  {
   "cell_type": "code",
   "execution_count": 7,
   "metadata": {},
   "outputs": [
    {
     "data": {
      "text/plain": [
       "Point(x=4.5, y=0.0)"
      ]
     },
     "execution_count": 7,
     "metadata": {},
     "output_type": "execute_result"
    },
    {
     "data": {
      "text/plain": [
       "Point(x=4, y=5)"
      ]
     },
     "execution_count": 7,
     "metadata": {},
     "output_type": "execute_result"
    },
    {
     "data": {
      "text/plain": [
       "Point(x=5, y=6)"
      ]
     },
     "execution_count": 7,
     "metadata": {},
     "output_type": "execute_result"
    }
   ],
   "source": [
    "pt_a = Point(x=2, y=3)\n",
    "pt_b = Point(x=2.5, y=-3.0)\n",
    "\n",
    "pt_a + pt_b\n",
    "pt_a + 2\n",
    "3 + pt_a\n"
   ]
  },
  {
   "cell_type": "markdown",
   "metadata": {},
   "source": [
    "### total_ordering"
   ]
  },
  {
   "cell_type": "markdown",
   "metadata": {},
   "source": [
    "Этот декоратор позволяет определить все арифметические операции автоматически, если заданы `__eq__` и `__lt__`"
   ]
  },
  {
   "cell_type": "code",
   "execution_count": 8,
   "metadata": {},
   "outputs": [],
   "source": [
    "@functools.total_ordering\n",
    "@dataclasses.dataclass(eq=False)\n",
    "class KeyData:\n",
    "    key: int\n",
    "    data: str\n",
    "    \n",
    "    # Важно не забыть определить самостоятельно\n",
    "    # Иначе равенство будет по паре (key, data)\n",
    "    def __eq__(self, other: 'KeyData') -> bool:  \n",
    "        return self.key == other.key\n",
    "    \n",
    "    def __lt__(self, other: 'KeyData') -> bool:\n",
    "        return self.key < other.key\n"
   ]
  },
  {
   "cell_type": "code",
   "execution_count": 9,
   "metadata": {},
   "outputs": [
    {
     "data": {
      "text/plain": [
       "(False, 'lt')"
      ]
     },
     "execution_count": 9,
     "metadata": {},
     "output_type": "execute_result"
    },
    {
     "data": {
      "text/plain": [
       "(False, 'eq')"
      ]
     },
     "execution_count": 9,
     "metadata": {},
     "output_type": "execute_result"
    },
    {
     "data": {
      "text/plain": [
       "(False, 'leq')"
      ]
     },
     "execution_count": 9,
     "metadata": {},
     "output_type": "execute_result"
    },
    {
     "data": {
      "text/plain": [
       "(True, 'gt')"
      ]
     },
     "execution_count": 9,
     "metadata": {},
     "output_type": "execute_result"
    },
    {
     "data": {
      "text/plain": [
       "True"
      ]
     },
     "execution_count": 9,
     "metadata": {},
     "output_type": "execute_result"
    }
   ],
   "source": [
    "kd_a = KeyData(key=5, data='abc')\n",
    "kd_b = KeyData(key=3, data='bcd')\n",
    "kd_c = KeyData(key=3, data='ddd')\n",
    "\n",
    "kd_a < kd_b, 'lt'\n",
    "kd_a == kd_b, 'eq'\n",
    "kd_a <= kd_b, 'leq'  # Автогенерированные\n",
    "kd_a > kd_b, 'gt'  # Автогенерированные\n",
    "\n",
    "kd_c == kd_b\n"
   ]
  },
  {
   "cell_type": "markdown",
   "metadata": {},
   "source": [
    "### Операторы контейнеров"
   ]
  },
  {
   "cell_type": "markdown",
   "metadata": {},
   "source": [
    "<img src=\"MappingAbstract.png\" align=left />"
   ]
  },
  {
   "cell_type": "code",
   "execution_count": 10,
   "metadata": {},
   "outputs": [],
   "source": [
    "from collections.abc import MutableMapping\n",
    "from typing import Dict, Iterator\n",
    "\n",
    "@dataclasses.dataclass\n",
    "class XorEncodedDict(MutableMapping):\n",
    "    encode_key: int\n",
    "    dct: Dict[int, int] = dataclasses.field(default_factory=dict)\n",
    "    \n",
    "    def __getitem__(self, key: int) -> int:\n",
    "        return self.dct[key] ^ self.encode_key\n",
    "    \n",
    "    def __setitem__(self, key: int, value: int) -> None:\n",
    "        self.dct[key] = value\n",
    "    \n",
    "    def __delitem__(self, key: int) -> int:\n",
    "        return self.dct.pop(key)\n",
    "    \n",
    "    def __iter__(self) -> Iterator[int]:\n",
    "        return iter(self.dct)\n",
    "    \n",
    "    def __len__(self) -> int:\n",
    "        return len(self.dct)\n"
   ]
  },
  {
   "cell_type": "code",
   "execution_count": 11,
   "metadata": {},
   "outputs": [
    {
     "name": "stdout",
     "output_type": "stream",
     "text": [
      "XorEncodedDict(encode_key=15, dct={10: 1, 5: 13})\n"
     ]
    },
    {
     "data": {
      "text/plain": [
       "2"
      ]
     },
     "execution_count": 11,
     "metadata": {},
     "output_type": "execute_result"
    },
    {
     "data": {
      "text/plain": [
       "(10, 14)"
      ]
     },
     "execution_count": 11,
     "metadata": {},
     "output_type": "execute_result"
    },
    {
     "name": "stdout",
     "output_type": "stream",
     "text": [
      "items:\n"
     ]
    },
    {
     "data": {
      "text/plain": [
       "(5, 2)"
      ]
     },
     "execution_count": 11,
     "metadata": {},
     "output_type": "execute_result"
    }
   ],
   "source": [
    "enc = XorEncodedDict(encode_key=15)\n",
    "enc[10] = 1\n",
    "enc[5] = 13\n",
    "\n",
    "print(enc)\n",
    "\n",
    "enc.setdefault(5, 0)\n",
    "\n",
    "enc.popitem()\n",
    "\n",
    "print(\"items:\")\n",
    "\n",
    "for k, v in enc.items():\n",
    "    k, v\n"
   ]
  },
  {
   "cell_type": "markdown",
   "metadata": {},
   "source": [
    "## Контекстные менеджеры"
   ]
  },
  {
   "cell_type": "markdown",
   "metadata": {},
   "source": [
    "Базовый пример - открытие файла"
   ]
  },
  {
   "cell_type": "code",
   "execution_count": 12,
   "metadata": {},
   "outputs": [
    {
     "data": {
      "text/plain": [
       "12"
      ]
     },
     "execution_count": 12,
     "metadata": {},
     "output_type": "execute_result"
    },
    {
     "data": {
      "text/plain": [
       "'Hello world!'"
      ]
     },
     "execution_count": 12,
     "metadata": {},
     "output_type": "execute_result"
    }
   ],
   "source": [
    "with open('out_file.txt', 'w') as out:\n",
    "    out.write('Hello world!')\n",
    "\n",
    "with open('out_file.txt') as inp:\n",
    "    inp.read()\n"
   ]
  },
  {
   "cell_type": "markdown",
   "metadata": {},
   "source": [
    "Можно написать свой аналог для файлов"
   ]
  },
  {
   "cell_type": "code",
   "execution_count": 13,
   "metadata": {},
   "outputs": [],
   "source": [
    "from typing import Any\n",
    "\n",
    "@dataclasses.dataclass\n",
    "class MyOpener:\n",
    "    file_path: str\n",
    "    \n",
    "    def __enter__(self) -> Any:\n",
    "        self.file = open(self.file_path)\n",
    "        return self.file\n",
    "    \n",
    "    def __exit__(self, exc, exc_info, exc_trace) -> None:\n",
    "        print(exc, exc_info, exc_trace)\n",
    "        self.file.close()\n",
    "        print('File is closed!')\n"
   ]
  },
  {
   "cell_type": "code",
   "execution_count": 14,
   "metadata": {},
   "outputs": [
    {
     "data": {
      "text/plain": [
       "'Hello world!'"
      ]
     },
     "execution_count": 14,
     "metadata": {},
     "output_type": "execute_result"
    },
    {
     "name": "stdout",
     "output_type": "stream",
     "text": [
      "<class 'Exception'> Some exception happened <traceback object at 0x7fe11c34df40>\n",
      "File is closed!\n"
     ]
    }
   ],
   "source": [
    "try:\n",
    "    with MyOpener('out_file.txt') as inp:\n",
    "        inp.read()\n",
    "        raise Exception(\"Some exception happened\")\n",
    "except Exception:\n",
    "    pass\n"
   ]
  },
  {
   "cell_type": "markdown",
   "metadata": {},
   "source": [
    "Файл закрылся, несмотря на исключение, это хорошо"
   ]
  },
  {
   "cell_type": "markdown",
   "metadata": {},
   "source": [
    "Есть более простой способ создания контекстных менеджеров"
   ]
  },
  {
   "cell_type": "code",
   "execution_count": 15,
   "metadata": {},
   "outputs": [],
   "source": [
    "import contextlib\n",
    "\n",
    "@contextlib.contextmanager\n",
    "def MyCtxlibOpener(file_path: str) -> Any:\n",
    "    file = open(file_path)\n",
    "    try:\n",
    "        yield file\n",
    "    finally:\n",
    "        file.close()\n",
    "        print('File is closed!')\n"
   ]
  },
  {
   "cell_type": "code",
   "execution_count": 16,
   "metadata": {},
   "outputs": [
    {
     "data": {
      "text/plain": [
       "'Hello world!'"
      ]
     },
     "execution_count": 16,
     "metadata": {},
     "output_type": "execute_result"
    },
    {
     "name": "stdout",
     "output_type": "stream",
     "text": [
      "File is closed!\n"
     ]
    }
   ],
   "source": [
    "try:\n",
    "    with MyCtxlibOpener('out_file.txt') as inp:\n",
    "        inp.read()\n",
    "        raise Exception(\"Some exception happened\")\n",
    "except Exception:\n",
    "    pass\n"
   ]
  },
  {
   "cell_type": "markdown",
   "metadata": {},
   "source": [
    "### Метод `__new__`"
   ]
  },
  {
   "cell_type": "markdown",
   "metadata": {},
   "source": [
    "Вызывается до `__init__` и решает, как создавать объект"
   ]
  },
  {
   "cell_type": "code",
   "execution_count": 17,
   "metadata": {},
   "outputs": [],
   "source": [
    "import random\n",
    "from typing import Optional\n",
    "\n",
    "\n",
    "class CheshireCat:\n",
    "    def __init__(self) -> None:\n",
    "        print(\"Miau, I'm here\")\n",
    "    \n",
    "    def __new__(cls) -> Optional['CheshireCat']:\n",
    "        if random.randint(0, 1) == 1:\n",
    "            return object.__new__(cls)\n",
    "        else:\n",
    "            print(\"Anyone saw a cat?\")\n",
    "        return None\n"
   ]
  },
  {
   "cell_type": "code",
   "execution_count": 18,
   "metadata": {},
   "outputs": [
    {
     "name": "stdout",
     "output_type": "stream",
     "text": [
      "Anyone saw a cat?\n",
      "Miau, I'm here\n",
      "Anyone saw a cat?\n",
      "Miau, I'm here\n",
      "Miau, I'm here\n"
     ]
    },
    {
     "data": {
      "text/plain": [
       "<__main__.CheshireCat at 0x7fe11cb87c10>"
      ]
     },
     "execution_count": 18,
     "metadata": {},
     "output_type": "execute_result"
    }
   ],
   "source": [
    "for i in range(5):\n",
    "    cat = CheshireCat()\n",
    "\n",
    "cat\n"
   ]
  },
  {
   "cell_type": "markdown",
   "metadata": {},
   "source": [
    "Пример с наследованием"
   ]
  },
  {
   "cell_type": "code",
   "execution_count": 19,
   "metadata": {},
   "outputs": [],
   "source": [
    "class CheshireKittenMolly(CheshireCat):\n",
    "    def __init__(self) -> None:\n",
    "        super().__init__()\n",
    "        print(\"I'm Molly!\")\n",
    "\n",
    "    def __new__(cls) -> Optional['CheshireKittenMolly']:\n",
    "        if not hasattr(cls, 'instance'):\n",
    "            cls.instance = None\n",
    "            while cls.instance is None:\n",
    "                cls.instance = super(CheshireCat, cls).__new__(cls)\n",
    "                cls.instance.milk_volume = 5\n",
    "                cls.instance.name = 'Molly'\n",
    "        return cls.instance\n"
   ]
  },
  {
   "cell_type": "code",
   "execution_count": 20,
   "metadata": {},
   "outputs": [
    {
     "name": "stdout",
     "output_type": "stream",
     "text": [
      "Miau, I'm here\n",
      "I'm Molly!\n",
      "Miau, I'm here\n",
      "I'm Molly!\n"
     ]
    },
    {
     "data": {
      "text/plain": [
       "3"
      ]
     },
     "execution_count": 20,
     "metadata": {},
     "output_type": "execute_result"
    },
    {
     "data": {
      "text/plain": [
       "(140604826084976, 140604826084976)"
      ]
     },
     "execution_count": 20,
     "metadata": {},
     "output_type": "execute_result"
    },
    {
     "data": {
      "text/plain": [
       "True"
      ]
     },
     "execution_count": 20,
     "metadata": {},
     "output_type": "execute_result"
    }
   ],
   "source": [
    "kitten1 = CheshireKittenMolly()\n",
    "kitten1.milk_volume = 3\n",
    "\n",
    "kitten2 = CheshireKittenMolly()\n",
    "kitten2.milk_volume\n",
    "\n",
    "id(kitten1), id(kitten2)\n",
    "kitten1 is kitten2\n"
   ]
  }
 ],
 "metadata": {
  "kernelspec": {
   "display_name": "Python 3 (ipykernel)",
   "language": "python",
   "name": "python3"
  },
  "language_info": {
   "codemirror_mode": {
    "name": "ipython",
    "version": 3
   },
   "file_extension": ".py",
   "mimetype": "text/x-python",
   "name": "python",
   "nbconvert_exporter": "python",
   "pygments_lexer": "ipython3",
   "version": "3.10.9"
  }
 },
 "nbformat": 4,
 "nbformat_minor": 2
}
